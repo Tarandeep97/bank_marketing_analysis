{
  "nbformat": 4,
  "nbformat_minor": 0,
  "metadata": {
    "colab": {
      "name": "Bank_Marketing_prediction.ipynb",
      "version": "0.3.2",
      "provenance": [],
      "collapsed_sections": [],
      "include_colab_link": true
    },
    "kernelspec": {
      "name": "python3",
      "display_name": "Python 3"
    }
  },
  "cells": [
    {
      "cell_type": "markdown",
      "metadata": {
        "id": "view-in-github",
        "colab_type": "text"
      },
      "source": [
        "<a href=\"https://colab.research.google.com/github/Tarandeep97/bank_marketing_analysis/blob/master/Bank_Marketing_prediction.ipynb\" target=\"_parent\"><img src=\"https://colab.research.google.com/assets/colab-badge.svg\" alt=\"Open In Colab\"/></a>"
      ]
    },
    {
      "metadata": {
        "id": "0RUkpLQqZbLK",
        "colab_type": "text"
      },
      "cell_type": "markdown",
      "source": [
        "#  Bank marketing Analysis\n",
        "\n",
        "The data is related with direct marketing campaigns of a Portuguese banking institution. The marketing campaigns were based on phone calls. Often, more than one contact to the same client was required, in order to access if the product (bank term deposit) would be ('yes') or not ('no') subscribed. \n",
        "![alt text](https://brandspurng.com/wp-content/uploads/2018/07/customer-data.jpg)\n"
      ]
    },
    {
      "metadata": {
        "id": "diCyEib8cOlZ",
        "colab_type": "text"
      },
      "cell_type": "markdown",
      "source": [
        "## Step 1 : Install & import dependecies"
      ]
    },
    {
      "metadata": {
        "id": "jZ3II_7XbTKh",
        "colab_type": "code",
        "outputId": "4713c9b9-fced-440e-a22f-b416d39f0de6",
        "colab": {
          "base_uri": "https://localhost:8080/",
          "height": 394
        }
      },
      "cell_type": "code",
      "source": [
        "!pip install pandas\n",
        "!pip install numpy\n",
        "!pip install matplotlib\n",
        "!pip install sklearn\n",
        "!pip install seaborn\n",
        "!pip install scipy"
      ],
      "execution_count": 13,
      "outputs": [
        {
          "output_type": "stream",
          "text": [
            "Requirement already satisfied: pandas in /usr/local/lib/python3.6/dist-packages (0.22.0)\n",
            "Requirement already satisfied: pytz>=2011k in /usr/local/lib/python3.6/dist-packages (from pandas) (2018.9)\n",
            "Requirement already satisfied: numpy>=1.9.0 in /usr/local/lib/python3.6/dist-packages (from pandas) (1.14.6)\n",
            "Requirement already satisfied: python-dateutil>=2 in /usr/local/lib/python3.6/dist-packages (from pandas) (2.5.3)\n",
            "Requirement already satisfied: six>=1.5 in /usr/local/lib/python3.6/dist-packages (from python-dateutil>=2->pandas) (1.11.0)\n",
            "Requirement already satisfied: numpy in /usr/local/lib/python3.6/dist-packages (1.14.6)\n",
            "Requirement already satisfied: matplotlib in /usr/local/lib/python3.6/dist-packages (3.0.2)\n",
            "Requirement already satisfied: cycler>=0.10 in /usr/local/lib/python3.6/dist-packages (from matplotlib) (0.10.0)\n",
            "Requirement already satisfied: python-dateutil>=2.1 in /usr/local/lib/python3.6/dist-packages (from matplotlib) (2.5.3)\n",
            "Requirement already satisfied: kiwisolver>=1.0.1 in /usr/local/lib/python3.6/dist-packages (from matplotlib) (1.0.1)\n",
            "Requirement already satisfied: numpy>=1.10.0 in /usr/local/lib/python3.6/dist-packages (from matplotlib) (1.14.6)\n",
            "Requirement already satisfied: pyparsing!=2.0.4,!=2.1.2,!=2.1.6,>=2.0.1 in /usr/local/lib/python3.6/dist-packages (from matplotlib) (2.3.1)\n",
            "Requirement already satisfied: six in /usr/local/lib/python3.6/dist-packages (from cycler>=0.10->matplotlib) (1.11.0)\n",
            "Requirement already satisfied: setuptools in /usr/local/lib/python3.6/dist-packages (from kiwisolver>=1.0.1->matplotlib) (40.8.0)\n",
            "Requirement already satisfied: sklearn in /usr/local/lib/python3.6/dist-packages (0.0)\n",
            "Requirement already satisfied: scikit-learn in /usr/local/lib/python3.6/dist-packages (from sklearn) (0.20.2)\n",
            "Requirement already satisfied: scipy>=0.13.3 in /usr/local/lib/python3.6/dist-packages (from scikit-learn->sklearn) (1.1.0)\n",
            "Requirement already satisfied: numpy>=1.8.2 in /usr/local/lib/python3.6/dist-packages (from scikit-learn->sklearn) (1.14.6)\n",
            "Requirement already satisfied: seaborn in /usr/local/lib/python3.6/dist-packages (0.7.1)\n",
            "Requirement already satisfied: scipy in /usr/local/lib/python3.6/dist-packages (1.1.0)\n",
            "Requirement already satisfied: numpy>=1.8.2 in /usr/local/lib/python3.6/dist-packages (from scipy) (1.14.6)\n"
          ],
          "name": "stdout"
        }
      ]
    },
    {
      "metadata": {
        "id": "dusIu9grc6a3",
        "colab_type": "code",
        "colab": {}
      },
      "cell_type": "code",
      "source": [
        "import pandas as pd\n",
        "import numpy as np\n",
        "\n",
        "import matplotlib.pyplot as plt\n",
        "import seaborn as sns\n",
        "plt.style.use('ggplot')\n",
        "\n",
        "from sklearn.tree import DecisionTreeClassifier\n",
        "from sklearn.linear_model import LogisticRegression\n",
        "from sklearn.neighbors import KNeighborsClassifier\n",
        "\n",
        "from sklearn.model_selection import train_test_split,GridSearchCV\n",
        "\n",
        "from sklearn.metrics import confusion_matrix, classification_report, roc_curve, roc_auc_score\n",
        "\n",
        "from scipy.stats import randint\n",
        "\n",
        "import warnings\n",
        "warnings.filterwarnings('ignore')\n"
      ],
      "execution_count": 0,
      "outputs": []
    },
    {
      "metadata": {
        "id": "L5N1f_giZwnI",
        "colab_type": "text"
      },
      "cell_type": "markdown",
      "source": [
        "### Load Dataset"
      ]
    },
    {
      "metadata": {
        "id": "Obm3YFhKeKwd",
        "colab_type": "code",
        "colab": {}
      },
      "cell_type": "code",
      "source": [
        "dataset_url = \"https://raw.githubusercontent.com/Tarandeep97/bank_marketing_analysis/master/bank-additional-full.csv\"\n",
        "bank_df = pd.read_csv(dataset_url,delimiter=';' )"
      ],
      "execution_count": 0,
      "outputs": []
    },
    {
      "metadata": {
        "id": "AyensvUN77nP",
        "colab_type": "text"
      },
      "cell_type": "markdown",
      "source": [
        "### Feature Engineering"
      ]
    },
    {
      "metadata": {
        "id": "NaI0ce3Y75hZ",
        "colab_type": "code",
        "colab": {}
      },
      "cell_type": "code",
      "source": [
        "X = bank_df.drop(['y'], axis=1)\n",
        "X_dummy = pd.get_dummies(X)\n",
        "y = bank_df['y']\n",
        "y[y=='no']=0\n",
        "y[y=='yes']=1\n",
        "y=y.astype('int')\n",
        "X_train, X_test, y_train, y_test = train_test_split(X_dummy,y,test_size=0.3,random_state=42)"
      ],
      "execution_count": 0,
      "outputs": []
    },
    {
      "metadata": {
        "id": "XNC-de4hhOOB",
        "colab_type": "text"
      },
      "cell_type": "markdown",
      "source": [
        "## Step 2 : Exploratory Data Analysis(EDA)"
      ]
    },
    {
      "metadata": {
        "id": "KLvndKpXjklU",
        "colab_type": "text"
      },
      "cell_type": "markdown",
      "source": [
        "### 2.1 Quantitative EDA"
      ]
    },
    {
      "metadata": {
        "id": "df8V1wHpd2Jq",
        "colab_type": "code",
        "outputId": "f5638b89-c824-4eb0-b05c-ac99a934ab2c",
        "colab": {
          "base_uri": "https://localhost:8080/",
          "height": 253
        }
      },
      "cell_type": "code",
      "source": [
        "X_dummy.head()"
      ],
      "execution_count": 5,
      "outputs": [
        {
          "output_type": "execute_result",
          "data": {
            "text/html": [
              "<div>\n",
              "<style scoped>\n",
              "    .dataframe tbody tr th:only-of-type {\n",
              "        vertical-align: middle;\n",
              "    }\n",
              "\n",
              "    .dataframe tbody tr th {\n",
              "        vertical-align: top;\n",
              "    }\n",
              "\n",
              "    .dataframe thead th {\n",
              "        text-align: right;\n",
              "    }\n",
              "</style>\n",
              "<table border=\"1\" class=\"dataframe\">\n",
              "  <thead>\n",
              "    <tr style=\"text-align: right;\">\n",
              "      <th></th>\n",
              "      <th>age</th>\n",
              "      <th>duration</th>\n",
              "      <th>campaign</th>\n",
              "      <th>pdays</th>\n",
              "      <th>previous</th>\n",
              "      <th>emp.var.rate</th>\n",
              "      <th>cons.price.idx</th>\n",
              "      <th>cons.conf.idx</th>\n",
              "      <th>euribor3m</th>\n",
              "      <th>nr.employed</th>\n",
              "      <th>...</th>\n",
              "      <th>month_oct</th>\n",
              "      <th>month_sep</th>\n",
              "      <th>day_of_week_fri</th>\n",
              "      <th>day_of_week_mon</th>\n",
              "      <th>day_of_week_thu</th>\n",
              "      <th>day_of_week_tue</th>\n",
              "      <th>day_of_week_wed</th>\n",
              "      <th>poutcome_failure</th>\n",
              "      <th>poutcome_nonexistent</th>\n",
              "      <th>poutcome_success</th>\n",
              "    </tr>\n",
              "  </thead>\n",
              "  <tbody>\n",
              "    <tr>\n",
              "      <th>0</th>\n",
              "      <td>56</td>\n",
              "      <td>261</td>\n",
              "      <td>1</td>\n",
              "      <td>999</td>\n",
              "      <td>0</td>\n",
              "      <td>1.1</td>\n",
              "      <td>93.994</td>\n",
              "      <td>-36.4</td>\n",
              "      <td>4.857</td>\n",
              "      <td>5191.0</td>\n",
              "      <td>...</td>\n",
              "      <td>0</td>\n",
              "      <td>0</td>\n",
              "      <td>0</td>\n",
              "      <td>1</td>\n",
              "      <td>0</td>\n",
              "      <td>0</td>\n",
              "      <td>0</td>\n",
              "      <td>0</td>\n",
              "      <td>1</td>\n",
              "      <td>0</td>\n",
              "    </tr>\n",
              "    <tr>\n",
              "      <th>1</th>\n",
              "      <td>57</td>\n",
              "      <td>149</td>\n",
              "      <td>1</td>\n",
              "      <td>999</td>\n",
              "      <td>0</td>\n",
              "      <td>1.1</td>\n",
              "      <td>93.994</td>\n",
              "      <td>-36.4</td>\n",
              "      <td>4.857</td>\n",
              "      <td>5191.0</td>\n",
              "      <td>...</td>\n",
              "      <td>0</td>\n",
              "      <td>0</td>\n",
              "      <td>0</td>\n",
              "      <td>1</td>\n",
              "      <td>0</td>\n",
              "      <td>0</td>\n",
              "      <td>0</td>\n",
              "      <td>0</td>\n",
              "      <td>1</td>\n",
              "      <td>0</td>\n",
              "    </tr>\n",
              "    <tr>\n",
              "      <th>2</th>\n",
              "      <td>37</td>\n",
              "      <td>226</td>\n",
              "      <td>1</td>\n",
              "      <td>999</td>\n",
              "      <td>0</td>\n",
              "      <td>1.1</td>\n",
              "      <td>93.994</td>\n",
              "      <td>-36.4</td>\n",
              "      <td>4.857</td>\n",
              "      <td>5191.0</td>\n",
              "      <td>...</td>\n",
              "      <td>0</td>\n",
              "      <td>0</td>\n",
              "      <td>0</td>\n",
              "      <td>1</td>\n",
              "      <td>0</td>\n",
              "      <td>0</td>\n",
              "      <td>0</td>\n",
              "      <td>0</td>\n",
              "      <td>1</td>\n",
              "      <td>0</td>\n",
              "    </tr>\n",
              "    <tr>\n",
              "      <th>3</th>\n",
              "      <td>40</td>\n",
              "      <td>151</td>\n",
              "      <td>1</td>\n",
              "      <td>999</td>\n",
              "      <td>0</td>\n",
              "      <td>1.1</td>\n",
              "      <td>93.994</td>\n",
              "      <td>-36.4</td>\n",
              "      <td>4.857</td>\n",
              "      <td>5191.0</td>\n",
              "      <td>...</td>\n",
              "      <td>0</td>\n",
              "      <td>0</td>\n",
              "      <td>0</td>\n",
              "      <td>1</td>\n",
              "      <td>0</td>\n",
              "      <td>0</td>\n",
              "      <td>0</td>\n",
              "      <td>0</td>\n",
              "      <td>1</td>\n",
              "      <td>0</td>\n",
              "    </tr>\n",
              "    <tr>\n",
              "      <th>4</th>\n",
              "      <td>56</td>\n",
              "      <td>307</td>\n",
              "      <td>1</td>\n",
              "      <td>999</td>\n",
              "      <td>0</td>\n",
              "      <td>1.1</td>\n",
              "      <td>93.994</td>\n",
              "      <td>-36.4</td>\n",
              "      <td>4.857</td>\n",
              "      <td>5191.0</td>\n",
              "      <td>...</td>\n",
              "      <td>0</td>\n",
              "      <td>0</td>\n",
              "      <td>0</td>\n",
              "      <td>1</td>\n",
              "      <td>0</td>\n",
              "      <td>0</td>\n",
              "      <td>0</td>\n",
              "      <td>0</td>\n",
              "      <td>1</td>\n",
              "      <td>0</td>\n",
              "    </tr>\n",
              "  </tbody>\n",
              "</table>\n",
              "<p>5 rows × 63 columns</p>\n",
              "</div>"
            ],
            "text/plain": [
              "   age  duration  campaign  pdays  previous  emp.var.rate  cons.price.idx  \\\n",
              "0   56       261         1    999         0           1.1          93.994   \n",
              "1   57       149         1    999         0           1.1          93.994   \n",
              "2   37       226         1    999         0           1.1          93.994   \n",
              "3   40       151         1    999         0           1.1          93.994   \n",
              "4   56       307         1    999         0           1.1          93.994   \n",
              "\n",
              "   cons.conf.idx  euribor3m  nr.employed        ...         month_oct  \\\n",
              "0          -36.4      4.857       5191.0        ...                 0   \n",
              "1          -36.4      4.857       5191.0        ...                 0   \n",
              "2          -36.4      4.857       5191.0        ...                 0   \n",
              "3          -36.4      4.857       5191.0        ...                 0   \n",
              "4          -36.4      4.857       5191.0        ...                 0   \n",
              "\n",
              "   month_sep  day_of_week_fri  day_of_week_mon  day_of_week_thu  \\\n",
              "0          0                0                1                0   \n",
              "1          0                0                1                0   \n",
              "2          0                0                1                0   \n",
              "3          0                0                1                0   \n",
              "4          0                0                1                0   \n",
              "\n",
              "   day_of_week_tue  day_of_week_wed  poutcome_failure  poutcome_nonexistent  \\\n",
              "0                0                0                 0                     1   \n",
              "1                0                0                 0                     1   \n",
              "2                0                0                 0                     1   \n",
              "3                0                0                 0                     1   \n",
              "4                0                0                 0                     1   \n",
              "\n",
              "   poutcome_success  \n",
              "0                 0  \n",
              "1                 0  \n",
              "2                 0  \n",
              "3                 0  \n",
              "4                 0  \n",
              "\n",
              "[5 rows x 63 columns]"
            ]
          },
          "metadata": {
            "tags": []
          },
          "execution_count": 5
        }
      ]
    },
    {
      "metadata": {
        "id": "Wyv8T7n_hmx8",
        "colab_type": "code",
        "outputId": "d549376b-549f-43fb-d56e-594ecf8581fe",
        "colab": {
          "base_uri": "https://localhost:8080/",
          "height": 346
        }
      },
      "cell_type": "code",
      "source": [
        "X_dummy.describe()"
      ],
      "execution_count": 6,
      "outputs": [
        {
          "output_type": "execute_result",
          "data": {
            "text/html": [
              "<div>\n",
              "<style scoped>\n",
              "    .dataframe tbody tr th:only-of-type {\n",
              "        vertical-align: middle;\n",
              "    }\n",
              "\n",
              "    .dataframe tbody tr th {\n",
              "        vertical-align: top;\n",
              "    }\n",
              "\n",
              "    .dataframe thead th {\n",
              "        text-align: right;\n",
              "    }\n",
              "</style>\n",
              "<table border=\"1\" class=\"dataframe\">\n",
              "  <thead>\n",
              "    <tr style=\"text-align: right;\">\n",
              "      <th></th>\n",
              "      <th>age</th>\n",
              "      <th>duration</th>\n",
              "      <th>campaign</th>\n",
              "      <th>pdays</th>\n",
              "      <th>previous</th>\n",
              "      <th>emp.var.rate</th>\n",
              "      <th>cons.price.idx</th>\n",
              "      <th>cons.conf.idx</th>\n",
              "      <th>euribor3m</th>\n",
              "      <th>nr.employed</th>\n",
              "      <th>...</th>\n",
              "      <th>month_oct</th>\n",
              "      <th>month_sep</th>\n",
              "      <th>day_of_week_fri</th>\n",
              "      <th>day_of_week_mon</th>\n",
              "      <th>day_of_week_thu</th>\n",
              "      <th>day_of_week_tue</th>\n",
              "      <th>day_of_week_wed</th>\n",
              "      <th>poutcome_failure</th>\n",
              "      <th>poutcome_nonexistent</th>\n",
              "      <th>poutcome_success</th>\n",
              "    </tr>\n",
              "  </thead>\n",
              "  <tbody>\n",
              "    <tr>\n",
              "      <th>count</th>\n",
              "      <td>41188.00000</td>\n",
              "      <td>41188.000000</td>\n",
              "      <td>41188.000000</td>\n",
              "      <td>41188.000000</td>\n",
              "      <td>41188.000000</td>\n",
              "      <td>41188.000000</td>\n",
              "      <td>41188.000000</td>\n",
              "      <td>41188.000000</td>\n",
              "      <td>41188.000000</td>\n",
              "      <td>41188.000000</td>\n",
              "      <td>...</td>\n",
              "      <td>41188.000000</td>\n",
              "      <td>41188.000000</td>\n",
              "      <td>41188.000000</td>\n",
              "      <td>41188.000000</td>\n",
              "      <td>41188.000000</td>\n",
              "      <td>41188.000000</td>\n",
              "      <td>41188.000000</td>\n",
              "      <td>41188.000000</td>\n",
              "      <td>41188.000000</td>\n",
              "      <td>41188.000000</td>\n",
              "    </tr>\n",
              "    <tr>\n",
              "      <th>mean</th>\n",
              "      <td>40.02406</td>\n",
              "      <td>258.285010</td>\n",
              "      <td>2.567593</td>\n",
              "      <td>962.475454</td>\n",
              "      <td>0.172963</td>\n",
              "      <td>0.081886</td>\n",
              "      <td>93.575664</td>\n",
              "      <td>-40.502600</td>\n",
              "      <td>3.621291</td>\n",
              "      <td>5167.035911</td>\n",
              "      <td>...</td>\n",
              "      <td>0.017432</td>\n",
              "      <td>0.013839</td>\n",
              "      <td>0.190031</td>\n",
              "      <td>0.206711</td>\n",
              "      <td>0.209357</td>\n",
              "      <td>0.196416</td>\n",
              "      <td>0.197485</td>\n",
              "      <td>0.103234</td>\n",
              "      <td>0.863431</td>\n",
              "      <td>0.033335</td>\n",
              "    </tr>\n",
              "    <tr>\n",
              "      <th>std</th>\n",
              "      <td>10.42125</td>\n",
              "      <td>259.279249</td>\n",
              "      <td>2.770014</td>\n",
              "      <td>186.910907</td>\n",
              "      <td>0.494901</td>\n",
              "      <td>1.570960</td>\n",
              "      <td>0.578840</td>\n",
              "      <td>4.628198</td>\n",
              "      <td>1.734447</td>\n",
              "      <td>72.251528</td>\n",
              "      <td>...</td>\n",
              "      <td>0.130877</td>\n",
              "      <td>0.116824</td>\n",
              "      <td>0.392330</td>\n",
              "      <td>0.404951</td>\n",
              "      <td>0.406855</td>\n",
              "      <td>0.397292</td>\n",
              "      <td>0.398106</td>\n",
              "      <td>0.304268</td>\n",
              "      <td>0.343396</td>\n",
              "      <td>0.179512</td>\n",
              "    </tr>\n",
              "    <tr>\n",
              "      <th>min</th>\n",
              "      <td>17.00000</td>\n",
              "      <td>0.000000</td>\n",
              "      <td>1.000000</td>\n",
              "      <td>0.000000</td>\n",
              "      <td>0.000000</td>\n",
              "      <td>-3.400000</td>\n",
              "      <td>92.201000</td>\n",
              "      <td>-50.800000</td>\n",
              "      <td>0.634000</td>\n",
              "      <td>4963.600000</td>\n",
              "      <td>...</td>\n",
              "      <td>0.000000</td>\n",
              "      <td>0.000000</td>\n",
              "      <td>0.000000</td>\n",
              "      <td>0.000000</td>\n",
              "      <td>0.000000</td>\n",
              "      <td>0.000000</td>\n",
              "      <td>0.000000</td>\n",
              "      <td>0.000000</td>\n",
              "      <td>0.000000</td>\n",
              "      <td>0.000000</td>\n",
              "    </tr>\n",
              "    <tr>\n",
              "      <th>25%</th>\n",
              "      <td>32.00000</td>\n",
              "      <td>102.000000</td>\n",
              "      <td>1.000000</td>\n",
              "      <td>999.000000</td>\n",
              "      <td>0.000000</td>\n",
              "      <td>-1.800000</td>\n",
              "      <td>93.075000</td>\n",
              "      <td>-42.700000</td>\n",
              "      <td>1.344000</td>\n",
              "      <td>5099.100000</td>\n",
              "      <td>...</td>\n",
              "      <td>0.000000</td>\n",
              "      <td>0.000000</td>\n",
              "      <td>0.000000</td>\n",
              "      <td>0.000000</td>\n",
              "      <td>0.000000</td>\n",
              "      <td>0.000000</td>\n",
              "      <td>0.000000</td>\n",
              "      <td>0.000000</td>\n",
              "      <td>1.000000</td>\n",
              "      <td>0.000000</td>\n",
              "    </tr>\n",
              "    <tr>\n",
              "      <th>50%</th>\n",
              "      <td>38.00000</td>\n",
              "      <td>180.000000</td>\n",
              "      <td>2.000000</td>\n",
              "      <td>999.000000</td>\n",
              "      <td>0.000000</td>\n",
              "      <td>1.100000</td>\n",
              "      <td>93.749000</td>\n",
              "      <td>-41.800000</td>\n",
              "      <td>4.857000</td>\n",
              "      <td>5191.000000</td>\n",
              "      <td>...</td>\n",
              "      <td>0.000000</td>\n",
              "      <td>0.000000</td>\n",
              "      <td>0.000000</td>\n",
              "      <td>0.000000</td>\n",
              "      <td>0.000000</td>\n",
              "      <td>0.000000</td>\n",
              "      <td>0.000000</td>\n",
              "      <td>0.000000</td>\n",
              "      <td>1.000000</td>\n",
              "      <td>0.000000</td>\n",
              "    </tr>\n",
              "    <tr>\n",
              "      <th>75%</th>\n",
              "      <td>47.00000</td>\n",
              "      <td>319.000000</td>\n",
              "      <td>3.000000</td>\n",
              "      <td>999.000000</td>\n",
              "      <td>0.000000</td>\n",
              "      <td>1.400000</td>\n",
              "      <td>93.994000</td>\n",
              "      <td>-36.400000</td>\n",
              "      <td>4.961000</td>\n",
              "      <td>5228.100000</td>\n",
              "      <td>...</td>\n",
              "      <td>0.000000</td>\n",
              "      <td>0.000000</td>\n",
              "      <td>0.000000</td>\n",
              "      <td>0.000000</td>\n",
              "      <td>0.000000</td>\n",
              "      <td>0.000000</td>\n",
              "      <td>0.000000</td>\n",
              "      <td>0.000000</td>\n",
              "      <td>1.000000</td>\n",
              "      <td>0.000000</td>\n",
              "    </tr>\n",
              "    <tr>\n",
              "      <th>max</th>\n",
              "      <td>98.00000</td>\n",
              "      <td>4918.000000</td>\n",
              "      <td>56.000000</td>\n",
              "      <td>999.000000</td>\n",
              "      <td>7.000000</td>\n",
              "      <td>1.400000</td>\n",
              "      <td>94.767000</td>\n",
              "      <td>-26.900000</td>\n",
              "      <td>5.045000</td>\n",
              "      <td>5228.100000</td>\n",
              "      <td>...</td>\n",
              "      <td>1.000000</td>\n",
              "      <td>1.000000</td>\n",
              "      <td>1.000000</td>\n",
              "      <td>1.000000</td>\n",
              "      <td>1.000000</td>\n",
              "      <td>1.000000</td>\n",
              "      <td>1.000000</td>\n",
              "      <td>1.000000</td>\n",
              "      <td>1.000000</td>\n",
              "      <td>1.000000</td>\n",
              "    </tr>\n",
              "  </tbody>\n",
              "</table>\n",
              "<p>8 rows × 63 columns</p>\n",
              "</div>"
            ],
            "text/plain": [
              "               age      duration      campaign         pdays      previous  \\\n",
              "count  41188.00000  41188.000000  41188.000000  41188.000000  41188.000000   \n",
              "mean      40.02406    258.285010      2.567593    962.475454      0.172963   \n",
              "std       10.42125    259.279249      2.770014    186.910907      0.494901   \n",
              "min       17.00000      0.000000      1.000000      0.000000      0.000000   \n",
              "25%       32.00000    102.000000      1.000000    999.000000      0.000000   \n",
              "50%       38.00000    180.000000      2.000000    999.000000      0.000000   \n",
              "75%       47.00000    319.000000      3.000000    999.000000      0.000000   \n",
              "max       98.00000   4918.000000     56.000000    999.000000      7.000000   \n",
              "\n",
              "       emp.var.rate  cons.price.idx  cons.conf.idx     euribor3m  \\\n",
              "count  41188.000000    41188.000000   41188.000000  41188.000000   \n",
              "mean       0.081886       93.575664     -40.502600      3.621291   \n",
              "std        1.570960        0.578840       4.628198      1.734447   \n",
              "min       -3.400000       92.201000     -50.800000      0.634000   \n",
              "25%       -1.800000       93.075000     -42.700000      1.344000   \n",
              "50%        1.100000       93.749000     -41.800000      4.857000   \n",
              "75%        1.400000       93.994000     -36.400000      4.961000   \n",
              "max        1.400000       94.767000     -26.900000      5.045000   \n",
              "\n",
              "        nr.employed        ...            month_oct     month_sep  \\\n",
              "count  41188.000000        ...         41188.000000  41188.000000   \n",
              "mean    5167.035911        ...             0.017432      0.013839   \n",
              "std       72.251528        ...             0.130877      0.116824   \n",
              "min     4963.600000        ...             0.000000      0.000000   \n",
              "25%     5099.100000        ...             0.000000      0.000000   \n",
              "50%     5191.000000        ...             0.000000      0.000000   \n",
              "75%     5228.100000        ...             0.000000      0.000000   \n",
              "max     5228.100000        ...             1.000000      1.000000   \n",
              "\n",
              "       day_of_week_fri  day_of_week_mon  day_of_week_thu  day_of_week_tue  \\\n",
              "count     41188.000000     41188.000000     41188.000000     41188.000000   \n",
              "mean          0.190031         0.206711         0.209357         0.196416   \n",
              "std           0.392330         0.404951         0.406855         0.397292   \n",
              "min           0.000000         0.000000         0.000000         0.000000   \n",
              "25%           0.000000         0.000000         0.000000         0.000000   \n",
              "50%           0.000000         0.000000         0.000000         0.000000   \n",
              "75%           0.000000         0.000000         0.000000         0.000000   \n",
              "max           1.000000         1.000000         1.000000         1.000000   \n",
              "\n",
              "       day_of_week_wed  poutcome_failure  poutcome_nonexistent  \\\n",
              "count     41188.000000      41188.000000          41188.000000   \n",
              "mean          0.197485          0.103234              0.863431   \n",
              "std           0.398106          0.304268              0.343396   \n",
              "min           0.000000          0.000000              0.000000   \n",
              "25%           0.000000          0.000000              1.000000   \n",
              "50%           0.000000          0.000000              1.000000   \n",
              "75%           0.000000          0.000000              1.000000   \n",
              "max           1.000000          1.000000              1.000000   \n",
              "\n",
              "       poutcome_success  \n",
              "count      41188.000000  \n",
              "mean           0.033335  \n",
              "std            0.179512  \n",
              "min            0.000000  \n",
              "25%            0.000000  \n",
              "50%            0.000000  \n",
              "75%            0.000000  \n",
              "max            1.000000  \n",
              "\n",
              "[8 rows x 63 columns]"
            ]
          },
          "metadata": {
            "tags": []
          },
          "execution_count": 6
        }
      ]
    },
    {
      "metadata": {
        "id": "sSPhek63h0pS",
        "colab_type": "code",
        "outputId": "52e7d7d6-46bc-449b-c9b9-1843cb740c7c",
        "colab": {
          "base_uri": "https://localhost:8080/",
          "height": 1193
        }
      },
      "cell_type": "code",
      "source": [
        "X_dummy.info()"
      ],
      "execution_count": 7,
      "outputs": [
        {
          "output_type": "stream",
          "text": [
            "<class 'pandas.core.frame.DataFrame'>\n",
            "RangeIndex: 41188 entries, 0 to 41187\n",
            "Data columns (total 63 columns):\n",
            "age                              41188 non-null int64\n",
            "duration                         41188 non-null int64\n",
            "campaign                         41188 non-null int64\n",
            "pdays                            41188 non-null int64\n",
            "previous                         41188 non-null int64\n",
            "emp.var.rate                     41188 non-null float64\n",
            "cons.price.idx                   41188 non-null float64\n",
            "cons.conf.idx                    41188 non-null float64\n",
            "euribor3m                        41188 non-null float64\n",
            "nr.employed                      41188 non-null float64\n",
            "job_admin.                       41188 non-null uint8\n",
            "job_blue-collar                  41188 non-null uint8\n",
            "job_entrepreneur                 41188 non-null uint8\n",
            "job_housemaid                    41188 non-null uint8\n",
            "job_management                   41188 non-null uint8\n",
            "job_retired                      41188 non-null uint8\n",
            "job_self-employed                41188 non-null uint8\n",
            "job_services                     41188 non-null uint8\n",
            "job_student                      41188 non-null uint8\n",
            "job_technician                   41188 non-null uint8\n",
            "job_unemployed                   41188 non-null uint8\n",
            "job_unknown                      41188 non-null uint8\n",
            "marital_divorced                 41188 non-null uint8\n",
            "marital_married                  41188 non-null uint8\n",
            "marital_single                   41188 non-null uint8\n",
            "marital_unknown                  41188 non-null uint8\n",
            "education_basic.4y               41188 non-null uint8\n",
            "education_basic.6y               41188 non-null uint8\n",
            "education_basic.9y               41188 non-null uint8\n",
            "education_high.school            41188 non-null uint8\n",
            "education_illiterate             41188 non-null uint8\n",
            "education_professional.course    41188 non-null uint8\n",
            "education_university.degree      41188 non-null uint8\n",
            "education_unknown                41188 non-null uint8\n",
            "default_no                       41188 non-null uint8\n",
            "default_unknown                  41188 non-null uint8\n",
            "default_yes                      41188 non-null uint8\n",
            "housing_no                       41188 non-null uint8\n",
            "housing_unknown                  41188 non-null uint8\n",
            "housing_yes                      41188 non-null uint8\n",
            "loan_no                          41188 non-null uint8\n",
            "loan_unknown                     41188 non-null uint8\n",
            "loan_yes                         41188 non-null uint8\n",
            "contact_cellular                 41188 non-null uint8\n",
            "contact_telephone                41188 non-null uint8\n",
            "month_apr                        41188 non-null uint8\n",
            "month_aug                        41188 non-null uint8\n",
            "month_dec                        41188 non-null uint8\n",
            "month_jul                        41188 non-null uint8\n",
            "month_jun                        41188 non-null uint8\n",
            "month_mar                        41188 non-null uint8\n",
            "month_may                        41188 non-null uint8\n",
            "month_nov                        41188 non-null uint8\n",
            "month_oct                        41188 non-null uint8\n",
            "month_sep                        41188 non-null uint8\n",
            "day_of_week_fri                  41188 non-null uint8\n",
            "day_of_week_mon                  41188 non-null uint8\n",
            "day_of_week_thu                  41188 non-null uint8\n",
            "day_of_week_tue                  41188 non-null uint8\n",
            "day_of_week_wed                  41188 non-null uint8\n",
            "poutcome_failure                 41188 non-null uint8\n",
            "poutcome_nonexistent             41188 non-null uint8\n",
            "poutcome_success                 41188 non-null uint8\n",
            "dtypes: float64(5), int64(5), uint8(53)\n",
            "memory usage: 5.2 MB\n"
          ],
          "name": "stdout"
        }
      ]
    },
    {
      "metadata": {
        "id": "F7aB9QCujyiO",
        "colab_type": "text"
      },
      "cell_type": "markdown",
      "source": [
        "### 2.2 Graphical EDA"
      ]
    },
    {
      "metadata": {
        "id": "EYbkF176bhIj",
        "colab_type": "code",
        "outputId": "fc38a44c-1434-4d6b-e4a9-c0871fe6a44f",
        "colab": {
          "base_uri": "https://localhost:8080/",
          "height": 435
        }
      },
      "cell_type": "code",
      "source": [
        "sns.heatmap(bank_df.corr(),square=True,cmap='RdYlGn')"
      ],
      "execution_count": 8,
      "outputs": [
        {
          "output_type": "execute_result",
          "data": {
            "text/plain": [
              "<matplotlib.axes._subplots.AxesSubplot at 0x7f4f30161ac8>"
            ]
          },
          "metadata": {
            "tags": []
          },
          "execution_count": 8
        },
        {
          "output_type": "display_data",
          "data": {
            "image/png": "[encoded data removed]",
            "text/plain": [
              "<Figure size 576x396 with 2 Axes>"
            ]
          },
          "metadata": {
            "tags": []
          }
        }
      ]
    },
    {
      "metadata": {
        "id": "IZaw7xRGlFQX",
        "colab_type": "text"
      },
      "cell_type": "markdown",
      "source": [
        "Insights from above graph:\n",
        "\n",
        "*   Attributes employment variation rate,  number of employees,  euribor 3 month rate, consumer price index are highly +vely coorelated, and\n",
        "*   Other attributes show high -ve coorelation."
      ]
    },
    {
      "metadata": {
        "id": "6QuuHFm3seCE",
        "colab_type": "text"
      },
      "cell_type": "markdown",
      "source": [
        "## Step 3: Evaluating Machine Learning Models"
      ]
    },
    {
      "metadata": {
        "id": "jDuMsmlpyuZu",
        "colab_type": "text"
      },
      "cell_type": "markdown",
      "source": [
        "### Helper Functions "
      ]
    },
    {
      "metadata": {
        "id": "zIT2G--vytNk",
        "colab_type": "code",
        "colab": {}
      },
      "cell_type": "code",
      "source": [
        "def roc_display(y_test, y_pred_prob):\n",
        "  \"\"\"Function to display ROC CURVE\"\"\"\n",
        "  fpr, tpr, thresholds = roc_curve(y_test,y_pred_prob)\n",
        "  plt.plot([0,1],[1,0],'k--')\n",
        "  plt.plot(fpr,tpr)\n",
        "  plt.xlabel('False Positive Rate')\n",
        "  plt.ylabel('True Positive Rate')\n",
        "  plt.title('Roc curve')\n",
        "  plt.show()"
      ],
      "execution_count": 0,
      "outputs": []
    },
    {
      "metadata": {
        "id": "Ic4cNLQi9QrI",
        "colab_type": "text"
      },
      "cell_type": "markdown",
      "source": [
        "### KNeighborsClassifiers"
      ]
    },
    {
      "metadata": {
        "id": "TL5S5jezoVMD",
        "colab_type": "code",
        "outputId": "e17524d7-5ed7-495e-fe77-8a1e8652a22a",
        "colab": {
          "base_uri": "https://localhost:8080/",
          "height": 417
        }
      },
      "cell_type": "code",
      "source": [
        "neighbors = np.arange(1, 10)\n",
        "train_accuracy = np.empty(len(neighbors))\n",
        "test_accuracy = np.empty(len(neighbors))\n",
        "\n",
        "\n",
        "for i, k in enumerate(neighbors):\n",
        "    \n",
        "    knn = KNeighborsClassifier(n_neighbors=k)\n",
        "\n",
        "    \n",
        "    knn.fit(X_train, y_train)\n",
        "    \n",
        "    \n",
        "    train_accuracy[i] = knn.score(X_train, y_train)\n",
        "\n",
        "   \n",
        "    test_accuracy[i] = knn.score(X_test, y_test)\n",
        "\n",
        "\n",
        "plt.title('k-NN: Varying Number of Neighbors')\n",
        "plt.plot(neighbors, test_accuracy, label = 'Testing Accuracy')\n",
        "plt.plot(neighbors, train_accuracy, label = 'Training Accuracy')\n",
        "plt.legend()\n",
        "plt.xlabel('Number of Neighbors')\n",
        "plt.ylabel('Accuracy')\n",
        "plt.show()\n",
        "\n",
        "print(\"Max. Accuracy for KNN:\",max(test_accuracy))"
      ],
      "execution_count": 10,
      "outputs": [
        {
          "output_type": "display_data",
          "data": {
            "image/png": "[encoded data removed]",
            "text/plain": [
              "<Figure size 576x396 with 1 Axes>"
            ]
          },
          "metadata": {
            "tags": []
          }
        },
        {
          "output_type": "stream",
          "text": [
            "Max. Accuracy for KNN: 0.9101723719349356\n"
          ],
          "name": "stdout"
        }
      ]
    },
    {
      "metadata": {
        "id": "VSZz5ry46mq5",
        "colab_type": "text"
      },
      "cell_type": "markdown",
      "source": [
        "Insights from graph: KNN with 9 neighbors performs well over data"
      ]
    },
    {
      "metadata": {
        "id": "cS-YfCvb-JN4",
        "colab_type": "code",
        "outputId": "f538468c-15d8-4c6e-b170-b3c29b0f039f",
        "colab": {
          "base_uri": "https://localhost:8080/",
          "height": 417
        }
      },
      "cell_type": "code",
      "source": [
        "knn = KNeighborsClassifier(n_neighbors=9)\n",
        "knn.fit(X_train, y_train)\n",
        "y_pred_prob = knn.predict_proba(X_test)[:,1]\n",
        "\n",
        "roc_display(y_test, y_pred_prob)\n",
        "\n",
        "\n",
        "print('AUC for :{}'.format(roc_auc_score(y_test,y_pred_prob)))"
      ],
      "execution_count": 12,
      "outputs": [
        {
          "output_type": "display_data",
          "data": {
            "image/png": "[encoded data removed]",
            "text/plain": [
              "<Figure size 576x396 with 1 Axes>"
            ]
          },
          "metadata": {
            "tags": []
          }
        },
        {
          "output_type": "stream",
          "text": [
            "AUC for :0.905655249987003\n"
          ],
          "name": "stdout"
        }
      ]
    },
    {
      "metadata": {
        "id": "oYTkLAqF9Gtp",
        "colab_type": "text"
      },
      "cell_type": "markdown",
      "source": [
        "### Logistic Regession Classifier"
      ]
    },
    {
      "metadata": {
        "id": "vteEFoAs7hD5",
        "colab_type": "code",
        "outputId": "62b224c1-99a5-4d84-8f3c-f945f449a07d",
        "colab": {
          "base_uri": "https://localhost:8080/",
          "height": 35
        }
      },
      "cell_type": "code",
      "source": [
        "from sklearn.linear_model import LogisticRegression\n",
        "logreg = LogisticRegression()\n",
        "\n",
        "c_space = np.logspace(-5,8,10)\n",
        "param_grid = {'C':c_space}\n",
        "logreg_cv = GridSearchCV(logreg,param_grid,cv=5)\n",
        "\n",
        "logreg_cv.fit(X_train,y_train)\n",
        "y_pred = logreg_cv.predict(X_test)\n",
        "print(\"Accuracy of Logistic Regression Classifier:\",logreg_cv.score(X_test,y_test))"
      ],
      "execution_count": 0,
      "outputs": [
        {
          "output_type": "stream",
          "text": [
            "Accuracy of Logistic Regression Classifier: 0.9107388524722829\n"
          ],
          "name": "stdout"
        }
      ]
    },
    {
      "metadata": {
        "id": "ZAFkxjlK9zzb",
        "colab_type": "code",
        "outputId": "06782a12-a679-48b4-b526-596a8f0ecbc4",
        "colab": {
          "base_uri": "https://localhost:8080/",
          "height": 398
        }
      },
      "cell_type": "code",
      "source": [
        "y_pred_prob = logreg_cv.predict_proba(X_test)[:,1]\n",
        "\n",
        "roc_display(y_test, y_pred_prob)\n",
        "\n",
        "\n",
        "print('AUC for logreg:{}'.format(roc_auc_score(y_test,y_pred_prob)))\n"
      ],
      "execution_count": 0,
      "outputs": [
        {
          "output_type": "display_data",
          "data": {
            "image/png": "[encoded data removed]",
            "text/plain": [
              "<Figure size 576x396 with 1 Axes>"
            ]
          },
          "metadata": {
            "tags": []
          }
        },
        {
          "output_type": "stream",
          "text": [
            "AUC for logreg:0.9341212659223588\n"
          ],
          "name": "stdout"
        }
      ]
    },
    {
      "metadata": {
        "id": "HMovezG6-5--",
        "colab_type": "text"
      },
      "cell_type": "markdown",
      "source": [
        "### DecisionTreeClassifier "
      ]
    },
    {
      "metadata": {
        "id": "5-CdYbwD_7TA",
        "colab_type": "code",
        "outputId": "2ca07f45-8eda-40ba-cac6-1cc6cf58cba9",
        "colab": {
          "base_uri": "https://localhost:8080/",
          "height": 35
        }
      },
      "cell_type": "code",
      "source": [
        "tree = DecisionTreeClassifier()\n",
        "tree.fit(X_train,y_train)\n",
        "print(tree.score(X_test,y_test))"
      ],
      "execution_count": 0,
      "outputs": [
        {
          "output_type": "stream",
          "text": [
            "0.887836853605244\n"
          ],
          "name": "stdout"
        }
      ]
    },
    {
      "metadata": {
        "id": "eKZ_ISV_BWyo",
        "colab_type": "code",
        "outputId": "3d3d4d64-90f2-43ff-b886-83c1a364ece9",
        "colab": {
          "base_uri": "https://localhost:8080/",
          "height": 398
        }
      },
      "cell_type": "code",
      "source": [
        "_pred_prob = tree.predict_proba(X_test)[:,1]\n",
        "\n",
        "roc_display(y_test, y_pred_prob)\n",
        "\n",
        "print('AUC for DecisionTreeClassfier:{}'.format(roc_auc_score(y_test,y_pred_prob)))"
      ],
      "execution_count": 0,
      "outputs": [
        {
          "output_type": "display_data",
          "data": {
            "image/png": "[encoded data removed]",
            "text/plain": [
              "<Figure size 576x396 with 1 Axes>"
            ]
          },
          "metadata": {
            "tags": []
          }
        },
        {
          "output_type": "stream",
          "text": [
            "AUC for DecisionTreeClassfier:0.9341212659223588\n"
          ],
          "name": "stdout"
        }
      ]
    }
  ]
}